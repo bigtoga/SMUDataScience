{
 "cells": [
  {
   "cell_type": "markdown",
   "metadata": {},
   "source": [
    "## Observations and Insights"
   ]
  },
  {
   "cell_type": "markdown",
   "metadata": {},
   "source": []
  },
  {
   "cell_type": "markdown",
   "metadata": {},
   "source": [
    "## Dependencies and starter code"
   ]
  },
  {
   "cell_type": "code",
   "execution_count": 1,
   "metadata": {},
   "outputs": [
    {
     "data": {
      "text/html": [
       "<div>\n",
       "<style scoped>\n",
       "    .dataframe tbody tr th:only-of-type {\n",
       "        vertical-align: middle;\n",
       "    }\n",
       "\n",
       "    .dataframe tbody tr th {\n",
       "        vertical-align: top;\n",
       "    }\n",
       "\n",
       "    .dataframe thead th {\n",
       "        text-align: right;\n",
       "    }\n",
       "</style>\n",
       "<table border=\"1\" class=\"dataframe\">\n",
       "  <thead>\n",
       "    <tr style=\"text-align: right;\">\n",
       "      <th></th>\n",
       "      <th>Mouse ID</th>\n",
       "      <th>Drug Regimen</th>\n",
       "      <th>Sex</th>\n",
       "      <th>Age_months</th>\n",
       "      <th>Weight (g)</th>\n",
       "      <th>Timepoint</th>\n",
       "      <th>Tumor Volume (mm3)</th>\n",
       "      <th>Metastatic Sites</th>\n",
       "    </tr>\n",
       "  </thead>\n",
       "  <tbody>\n",
       "    <tr>\n",
       "      <th>0</th>\n",
       "      <td>k403</td>\n",
       "      <td>Ramicane</td>\n",
       "      <td>Male</td>\n",
       "      <td>21</td>\n",
       "      <td>16</td>\n",
       "      <td>0</td>\n",
       "      <td>45.000000</td>\n",
       "      <td>0</td>\n",
       "    </tr>\n",
       "    <tr>\n",
       "      <th>1</th>\n",
       "      <td>k403</td>\n",
       "      <td>Ramicane</td>\n",
       "      <td>Male</td>\n",
       "      <td>21</td>\n",
       "      <td>16</td>\n",
       "      <td>5</td>\n",
       "      <td>38.825898</td>\n",
       "      <td>0</td>\n",
       "    </tr>\n",
       "    <tr>\n",
       "      <th>2</th>\n",
       "      <td>k403</td>\n",
       "      <td>Ramicane</td>\n",
       "      <td>Male</td>\n",
       "      <td>21</td>\n",
       "      <td>16</td>\n",
       "      <td>10</td>\n",
       "      <td>35.014271</td>\n",
       "      <td>1</td>\n",
       "    </tr>\n",
       "    <tr>\n",
       "      <th>3</th>\n",
       "      <td>k403</td>\n",
       "      <td>Ramicane</td>\n",
       "      <td>Male</td>\n",
       "      <td>21</td>\n",
       "      <td>16</td>\n",
       "      <td>15</td>\n",
       "      <td>34.223992</td>\n",
       "      <td>1</td>\n",
       "    </tr>\n",
       "    <tr>\n",
       "      <th>4</th>\n",
       "      <td>k403</td>\n",
       "      <td>Ramicane</td>\n",
       "      <td>Male</td>\n",
       "      <td>21</td>\n",
       "      <td>16</td>\n",
       "      <td>20</td>\n",
       "      <td>32.997729</td>\n",
       "      <td>1</td>\n",
       "    </tr>\n",
       "  </tbody>\n",
       "</table>\n",
       "</div>"
      ],
      "text/plain": [
       "  Mouse ID Drug Regimen   Sex  Age_months  Weight (g)  Timepoint  \\\n",
       "0     k403     Ramicane  Male          21          16          0   \n",
       "1     k403     Ramicane  Male          21          16          5   \n",
       "2     k403     Ramicane  Male          21          16         10   \n",
       "3     k403     Ramicane  Male          21          16         15   \n",
       "4     k403     Ramicane  Male          21          16         20   \n",
       "\n",
       "   Tumor Volume (mm3)  Metastatic Sites  \n",
       "0           45.000000                 0  \n",
       "1           38.825898                 0  \n",
       "2           35.014271                 1  \n",
       "3           34.223992                 1  \n",
       "4           32.997729                 1  "
      ]
     },
     "execution_count": 1,
     "metadata": {},
     "output_type": "execute_result"
    }
   ],
   "source": [
    "# Dependencies and Setup\n",
    "import matplotlib.pyplot as plt\n",
    "import pandas as pd\n",
    "import scipy.stats as st\n",
    "import numpy as np\n",
    "\n",
    "# Study data files\n",
    "mouse_metadata = \"data/Mouse_metadata.csv\"\n",
    "study_results = \"data/Study_results.csv\"\n",
    "\n",
    "# Read the mouse data and the study results\n",
    "mouse_metadata = pd.read_csv(mouse_metadata)\n",
    "study_results = pd.read_csv(study_results)\n",
    "\n",
    "# Combine the data into a single dataset\n",
    "merged = pd.merge(mouse_metadata, study_results, on=\"Mouse ID\")\n",
    "merged.head()"
   ]
  },
  {
   "cell_type": "markdown",
   "metadata": {},
   "source": [
    "## Summary statistics"
   ]
  },
  {
   "cell_type": "code",
   "execution_count": 2,
   "metadata": {},
   "outputs": [
    {
     "data": {
      "text/html": [
       "<div>\n",
       "<style scoped>\n",
       "    .dataframe tbody tr th:only-of-type {\n",
       "        vertical-align: middle;\n",
       "    }\n",
       "\n",
       "    .dataframe tbody tr th {\n",
       "        vertical-align: top;\n",
       "    }\n",
       "\n",
       "    .dataframe thead tr th {\n",
       "        text-align: left;\n",
       "    }\n",
       "\n",
       "    .dataframe thead tr:last-of-type th {\n",
       "        text-align: right;\n",
       "    }\n",
       "</style>\n",
       "<table border=\"1\" class=\"dataframe\">\n",
       "  <thead>\n",
       "    <tr>\n",
       "      <th></th>\n",
       "      <th colspan=\"5\" halign=\"left\">Tumor Volume (mm3)</th>\n",
       "    </tr>\n",
       "    <tr>\n",
       "      <th></th>\n",
       "      <th>mean</th>\n",
       "      <th>median</th>\n",
       "      <th>var</th>\n",
       "      <th>std</th>\n",
       "      <th>sem</th>\n",
       "    </tr>\n",
       "    <tr>\n",
       "      <th>Drug Regimen</th>\n",
       "      <th></th>\n",
       "      <th></th>\n",
       "      <th></th>\n",
       "      <th></th>\n",
       "      <th></th>\n",
       "    </tr>\n",
       "  </thead>\n",
       "  <tbody>\n",
       "    <tr>\n",
       "      <th>Capomulin</th>\n",
       "      <td>40.68</td>\n",
       "      <td>41.56</td>\n",
       "      <td>24.95</td>\n",
       "      <td>4.99</td>\n",
       "      <td>0.33</td>\n",
       "    </tr>\n",
       "    <tr>\n",
       "      <th>Ceftamin</th>\n",
       "      <td>52.59</td>\n",
       "      <td>51.78</td>\n",
       "      <td>39.29</td>\n",
       "      <td>6.27</td>\n",
       "      <td>0.47</td>\n",
       "    </tr>\n",
       "    <tr>\n",
       "      <th>Infubinol</th>\n",
       "      <td>52.88</td>\n",
       "      <td>51.82</td>\n",
       "      <td>43.13</td>\n",
       "      <td>6.57</td>\n",
       "      <td>0.49</td>\n",
       "    </tr>\n",
       "    <tr>\n",
       "      <th>Ketapril</th>\n",
       "      <td>55.24</td>\n",
       "      <td>53.70</td>\n",
       "      <td>68.55</td>\n",
       "      <td>8.28</td>\n",
       "      <td>0.60</td>\n",
       "    </tr>\n",
       "    <tr>\n",
       "      <th>Naftisol</th>\n",
       "      <td>54.33</td>\n",
       "      <td>52.51</td>\n",
       "      <td>66.17</td>\n",
       "      <td>8.13</td>\n",
       "      <td>0.60</td>\n",
       "    </tr>\n",
       "  </tbody>\n",
       "</table>\n",
       "</div>"
      ],
      "text/plain": [
       "             Tumor Volume (mm3)                          \n",
       "                           mean median    var   std   sem\n",
       "Drug Regimen                                             \n",
       "Capomulin                 40.68  41.56  24.95  4.99  0.33\n",
       "Ceftamin                  52.59  51.78  39.29  6.27  0.47\n",
       "Infubinol                 52.88  51.82  43.13  6.57  0.49\n",
       "Ketapril                  55.24  53.70  68.55  8.28  0.60\n",
       "Naftisol                  54.33  52.51  66.17  8.13  0.60"
      ]
     },
     "execution_count": 2,
     "metadata": {},
     "output_type": "execute_result"
    }
   ],
   "source": [
    "# Generate a summary statistics table of mean, median, variance, standard deviation, and SEM of the tumor volume for each regimen\n",
    "grp = \"Drug Regimen\"\n",
    "aggColumn = 'Tumor Volume (mm3)'\n",
    "newdf = merged.groupby(grp).agg({aggColumn: [np.mean, np.median, np.var, np.std, st.sem]}).round(2)\n",
    "newdf.head()"
   ]
  },
  {
   "cell_type": "markdown",
   "metadata": {},
   "source": [
    "## Bar plots"
   ]
  },
  {
   "cell_type": "code",
   "execution_count": 3,
   "metadata": {},
   "outputs": [
    {
     "data": {
      "text/plain": [
       "Text(0, 0.5, 'Number of Data Points')"
      ]
     },
     "execution_count": 3,
     "metadata": {},
     "output_type": "execute_result"
    },
    {
     "data": {
      "image/png": "[encoded data removed]",
      "text/plain": [
       "<Figure size 360x216 with 1 Axes>"
      ]
     },
     "metadata": {
      "needs_background": "light"
     },
     "output_type": "display_data"
    }
   ],
   "source": [
    "# Generate a bar plot showing number of data points for each treatment regimen using pandas\n",
    "\n",
    "# Collect the data points \n",
    "x = merged.groupby(grp)[\"Mouse ID\"].count()\n",
    "\n",
    "# convert from series to dataframe\n",
    "df = pd.DataFrame(x).reset_index()\n",
    "df.columns = ['Drug Regimen', 'Data Points']\n",
    "df = df.sort_values('Data Points', ascending = False)\n",
    "\n",
    "# Assign colors\n",
    "colors = [\"yellowgreen\", \"red\", \"lightcoral\", \"lightskyblue\", \"yellow\", \"green\", \"brown\"]\n",
    "\n",
    "# Dataframe plot\n",
    "df.plot(kind='bar',\n",
    "        x='Drug Regimen',\n",
    "        y='Data Points', \n",
    "        color=colors, \n",
    "        legend = False, \n",
    "        title=\"Drug Regimen - # of Data Points\",\n",
    "        figsize= (5,3),\n",
    "        width=0.4\n",
    "       )\n",
    "\n",
    "# Give the chart an x label, and y label\n",
    "plt.xlabel(\"Drug Regimen\")\n",
    "plt.ylabel(\"Number of Data Points\")"
   ]
  },
  {
   "cell_type": "code",
   "execution_count": 4,
   "metadata": {},
   "outputs": [
    {
     "data": {
      "image/png": "[encoded data removed]",
      "text/plain": [
       "<Figure size 360x216 with 1 Axes>"
      ]
     },
     "metadata": {
      "needs_background": "light"
     },
     "output_type": "display_data"
    }
   ],
   "source": [
    "# Generate a bar plot showing number of data points for each treatment regimen using pyplot\n",
    "# Reuse same dataframe + colors from previous\n",
    "\n",
    "x_axis = df[grp]\n",
    "tick_locations = [value for value in x_axis]\n",
    "\n",
    "# Set figure size to adjust for space\n",
    "plt.figure(figsize=(5,3))\n",
    "\n",
    "# Tighten up!\n",
    "plt.xlim(-0.50, len(x_axis)-0.5) # horizontal \"fit\"\n",
    "plt.ylim(0, max(df[\"Data Points\"]) + 19) # vertical \"fit\"\n",
    "\n",
    "plt.bar(x_axis, \n",
    "        df[\"Data Points\"], \n",
    "        color=colors, \n",
    "        alpha=1, \n",
    "        align=\"center\",\n",
    "        width=0.4\n",
    "       )\n",
    "\n",
    "# Twist the labels \n",
    "plt.xticks(tick_locations, df[grp], rotation=\"vertical\")\n",
    "\n",
    "# Give the chart an x label, and y label\n",
    "plt.xlabel(\"Drug Regimen\")\n",
    "plt.ylabel(\"Number of Data Points\")\n",
    "plt.title(\"Drug Regimen - # of Data Points\")\n",
    "# Pad margins so that markers don't get clipped by the axes\n",
    "plt.margins(0.2)\n",
    "\n",
    "# Tweak spacing to prevent clipping of tick-labels\n",
    "plt.subplots_adjust(bottom=0.15)\n",
    "plt.show()"
   ]
  },
  {
   "cell_type": "markdown",
   "metadata": {},
   "source": [
    "## Pie plots"
   ]
  },
  {
   "cell_type": "code",
   "execution_count": 5,
   "metadata": {},
   "outputs": [
    {
     "data": {
      "text/plain": [
       "[Text(0, 0.5, '')]"
      ]
     },
     "execution_count": 5,
     "metadata": {},
     "output_type": "execute_result"
    },
    {
     "data": {
      "image/png": "[encoded data removed]",
      "text/plain": [
       "<Figure size 432x432 with 1 Axes>"
      ]
     },
     "metadata": {},
     "output_type": "display_data"
    }
   ],
   "source": [
    "# Generate a pie plot showing the distribution of female versus male mice using pandas\n",
    "grp2 = \"Sex\"\n",
    "\n",
    "# Collect the data points \n",
    "x = merged.groupby(grp2)[\"Mouse ID\"].count()\n",
    "\n",
    "# convert from series to dataframe\n",
    "df = pd.DataFrame(x).reset_index()\n",
    "df.columns = ['Sex', 'Mice']\n",
    "df = df.sort_values('Mice', ascending = False)\n",
    "df.index = df[grp2]\n",
    "\n",
    "plot = df.plot(kind='pie'\n",
    "        , y='Mice'\n",
    "        , figsize=(6, 6)\n",
    "        , autopct='%1.1f%%'\n",
    "        , startangle=90\n",
    "        , legend = True\n",
    "        , title=\"Percent Male/Female Samples\"\n",
    "       )\n",
    "plot.set(ylabel=\"\")"
   ]
  },
  {
   "cell_type": "code",
   "execution_count": 6,
   "metadata": {},
   "outputs": [
    {
     "data": {
      "image/png": "[encoded data removed]",
      "text/plain": [
       "<Figure size 432x288 with 1 Axes>"
      ]
     },
     "metadata": {},
     "output_type": "display_data"
    }
   ],
   "source": [
    "# Generate a pie plot showing the distribution of female versus male mice using pyplot\n",
    "\n",
    "# Colors\n",
    "# colors = [\"#E13F29\", \"#D69A80\", \"#D63B59\", \"#AE5552\", \"#CB5C3B\", \"#EB8076\", \"#96624E\"]\n",
    "\n",
    "# Create a pie chart\n",
    "plt.pie(\n",
    "    # using data total)arrests\n",
    "    df['Mice'],\n",
    "    # with the labels being officer names\n",
    "    labels=df[grp2],\n",
    "    # with no shadows\n",
    "    shadow=False,\n",
    "    # with colors\n",
    "    # colors=colors,\n",
    "    # with the start angle at 90%\n",
    "    startangle=90,\n",
    "    # with the percent listed as a fraction\n",
    "    autopct='%1.1f%%'\n",
    "    )\n",
    "\n",
    "# View the plot drop above\n",
    "plt.axis('equal')\n",
    "\n",
    "# Set the title and legend\n",
    "plt.legend(df[grp2])\n",
    "plt.title(\"Percent Male/Female Samples\")\n",
    "\n",
    "# View the plot\n",
    "plt.tight_layout()\n",
    "plt.show()"
   ]
  },
  {
   "cell_type": "markdown",
   "metadata": {},
   "source": [
    "## Quartiles, outliers and boxplots"
   ]
  },
  {
   "cell_type": "code",
   "execution_count": 7,
   "metadata": {},
   "outputs": [
    {
     "name": "stdout",
     "output_type": "stream",
     "text": [
      "Final tumor volume for each mouse / regimen:\n"
     ]
    },
    {
     "data": {
      "text/html": [
       "<div>\n",
       "<style scoped>\n",
       "    .dataframe tbody tr th:only-of-type {\n",
       "        vertical-align: middle;\n",
       "    }\n",
       "\n",
       "    .dataframe tbody tr th {\n",
       "        vertical-align: top;\n",
       "    }\n",
       "\n",
       "    .dataframe thead th {\n",
       "        text-align: right;\n",
       "    }\n",
       "</style>\n",
       "<table border=\"1\" class=\"dataframe\">\n",
       "  <thead>\n",
       "    <tr style=\"text-align: right;\">\n",
       "      <th></th>\n",
       "      <th>Mouse ID</th>\n",
       "      <th>Drug Regimen</th>\n",
       "      <th>Tumor Volume (mm3)</th>\n",
       "    </tr>\n",
       "  </thead>\n",
       "  <tbody>\n",
       "    <tr>\n",
       "      <th>309</th>\n",
       "      <td>b128</td>\n",
       "      <td>Capomulin</td>\n",
       "      <td>38.98</td>\n",
       "    </tr>\n",
       "    <tr>\n",
       "      <th>299</th>\n",
       "      <td>b742</td>\n",
       "      <td>Capomulin</td>\n",
       "      <td>38.94</td>\n",
       "    </tr>\n",
       "    <tr>\n",
       "      <th>64</th>\n",
       "      <td>f966</td>\n",
       "      <td>Capomulin</td>\n",
       "      <td>30.49</td>\n",
       "    </tr>\n",
       "    <tr>\n",
       "      <th>244</th>\n",
       "      <td>g288</td>\n",
       "      <td>Capomulin</td>\n",
       "      <td>37.07</td>\n",
       "    </tr>\n",
       "    <tr>\n",
       "      <th>360</th>\n",
       "      <td>g316</td>\n",
       "      <td>Capomulin</td>\n",
       "      <td>40.16</td>\n",
       "    </tr>\n",
       "    <tr>\n",
       "      <th>440</th>\n",
       "      <td>i557</td>\n",
       "      <td>Capomulin</td>\n",
       "      <td>47.69</td>\n",
       "    </tr>\n",
       "    <tr>\n",
       "      <th>204</th>\n",
       "      <td>i738</td>\n",
       "      <td>Capomulin</td>\n",
       "      <td>37.31</td>\n",
       "    </tr>\n",
       "    <tr>\n",
       "      <th>337</th>\n",
       "      <td>j119</td>\n",
       "      <td>Capomulin</td>\n",
       "      <td>38.13</td>\n",
       "    </tr>\n",
       "    <tr>\n",
       "      <th>317</th>\n",
       "      <td>j246</td>\n",
       "      <td>Capomulin</td>\n",
       "      <td>38.75</td>\n",
       "    </tr>\n",
       "    <tr>\n",
       "      <th>380</th>\n",
       "      <td>l509</td>\n",
       "      <td>Capomulin</td>\n",
       "      <td>41.48</td>\n",
       "    </tr>\n",
       "    <tr>\n",
       "      <th>282</th>\n",
       "      <td>l897</td>\n",
       "      <td>Capomulin</td>\n",
       "      <td>38.85</td>\n",
       "    </tr>\n",
       "    <tr>\n",
       "      <th>39</th>\n",
       "      <td>m601</td>\n",
       "      <td>Capomulin</td>\n",
       "      <td>28.43</td>\n",
       "    </tr>\n",
       "    <tr>\n",
       "      <th>144</th>\n",
       "      <td>m957</td>\n",
       "      <td>Capomulin</td>\n",
       "      <td>33.33</td>\n",
       "    </tr>\n",
       "    <tr>\n",
       "      <th>1455</th>\n",
       "      <td>r157</td>\n",
       "      <td>Capomulin</td>\n",
       "      <td>46.54</td>\n",
       "    </tr>\n",
       "    <tr>\n",
       "      <th>134</th>\n",
       "      <td>r554</td>\n",
       "      <td>Capomulin</td>\n",
       "      <td>32.38</td>\n",
       "    </tr>\n",
       "    <tr>\n",
       "      <th>390</th>\n",
       "      <td>r944</td>\n",
       "      <td>Capomulin</td>\n",
       "      <td>41.58</td>\n",
       "    </tr>\n",
       "    <tr>\n",
       "      <th>19</th>\n",
       "      <td>s185</td>\n",
       "      <td>Capomulin</td>\n",
       "      <td>23.34</td>\n",
       "    </tr>\n",
       "    <tr>\n",
       "      <th>370</th>\n",
       "      <td>s710</td>\n",
       "      <td>Capomulin</td>\n",
       "      <td>40.73</td>\n",
       "    </tr>\n",
       "    <tr>\n",
       "      <th>164</th>\n",
       "      <td>t565</td>\n",
       "      <td>Capomulin</td>\n",
       "      <td>34.46</td>\n",
       "    </tr>\n",
       "    <tr>\n",
       "      <th>104</th>\n",
       "      <td>u364</td>\n",
       "      <td>Capomulin</td>\n",
       "      <td>31.02</td>\n",
       "    </tr>\n",
       "    <tr>\n",
       "      <th>350</th>\n",
       "      <td>v923</td>\n",
       "      <td>Capomulin</td>\n",
       "      <td>40.66</td>\n",
       "    </tr>\n",
       "    <tr>\n",
       "      <th>340</th>\n",
       "      <td>w150</td>\n",
       "      <td>Capomulin</td>\n",
       "      <td>39.95</td>\n",
       "    </tr>\n",
       "    <tr>\n",
       "      <th>224</th>\n",
       "      <td>w914</td>\n",
       "      <td>Capomulin</td>\n",
       "      <td>36.04</td>\n",
       "    </tr>\n",
       "    <tr>\n",
       "      <th>29</th>\n",
       "      <td>x401</td>\n",
       "      <td>Capomulin</td>\n",
       "      <td>28.48</td>\n",
       "    </tr>\n",
       "    <tr>\n",
       "      <th>124</th>\n",
       "      <td>y793</td>\n",
       "      <td>Capomulin</td>\n",
       "      <td>31.90</td>\n",
       "    </tr>\n",
       "    <tr>\n",
       "      <th>493</th>\n",
       "      <td>a275</td>\n",
       "      <td>Ceftamin</td>\n",
       "      <td>63.00</td>\n",
       "    </tr>\n",
       "    <tr>\n",
       "      <th>594</th>\n",
       "      <td>b447</td>\n",
       "      <td>Ceftamin</td>\n",
       "      <td>45.00</td>\n",
       "    </tr>\n",
       "    <tr>\n",
       "      <th>600</th>\n",
       "      <td>b487</td>\n",
       "      <td>Ceftamin</td>\n",
       "      <td>56.06</td>\n",
       "    </tr>\n",
       "    <tr>\n",
       "      <th>617</th>\n",
       "      <td>b759</td>\n",
       "      <td>Ceftamin</td>\n",
       "      <td>55.74</td>\n",
       "    </tr>\n",
       "    <tr>\n",
       "      <th>840</th>\n",
       "      <td>f436</td>\n",
       "      <td>Ceftamin</td>\n",
       "      <td>48.72</td>\n",
       "    </tr>\n",
       "    <tr>\n",
       "      <th>...</th>\n",
       "      <td>...</td>\n",
       "      <td>...</td>\n",
       "      <td>...</td>\n",
       "    </tr>\n",
       "    <tr>\n",
       "      <th>1640</th>\n",
       "      <td>v766</td>\n",
       "      <td>Infubinol</td>\n",
       "      <td>51.54</td>\n",
       "    </tr>\n",
       "    <tr>\n",
       "      <th>1683</th>\n",
       "      <td>w193</td>\n",
       "      <td>Infubinol</td>\n",
       "      <td>50.01</td>\n",
       "    </tr>\n",
       "    <tr>\n",
       "      <th>1726</th>\n",
       "      <td>w584</td>\n",
       "      <td>Infubinol</td>\n",
       "      <td>58.27</td>\n",
       "    </tr>\n",
       "    <tr>\n",
       "      <th>1813</th>\n",
       "      <td>y163</td>\n",
       "      <td>Infubinol</td>\n",
       "      <td>67.69</td>\n",
       "    </tr>\n",
       "    <tr>\n",
       "      <th>1872</th>\n",
       "      <td>z581</td>\n",
       "      <td>Infubinol</td>\n",
       "      <td>62.75</td>\n",
       "    </tr>\n",
       "    <tr>\n",
       "      <th>327</th>\n",
       "      <td>a411</td>\n",
       "      <td>Ramicane</td>\n",
       "      <td>38.41</td>\n",
       "    </tr>\n",
       "    <tr>\n",
       "      <th>430</th>\n",
       "      <td>a444</td>\n",
       "      <td>Ramicane</td>\n",
       "      <td>43.05</td>\n",
       "    </tr>\n",
       "    <tr>\n",
       "      <th>214</th>\n",
       "      <td>a520</td>\n",
       "      <td>Ramicane</td>\n",
       "      <td>38.81</td>\n",
       "    </tr>\n",
       "    <tr>\n",
       "      <th>174</th>\n",
       "      <td>a644</td>\n",
       "      <td>Ramicane</td>\n",
       "      <td>32.98</td>\n",
       "    </tr>\n",
       "    <tr>\n",
       "      <th>289</th>\n",
       "      <td>c458</td>\n",
       "      <td>Ramicane</td>\n",
       "      <td>38.34</td>\n",
       "    </tr>\n",
       "    <tr>\n",
       "      <th>154</th>\n",
       "      <td>c758</td>\n",
       "      <td>Ramicane</td>\n",
       "      <td>33.40</td>\n",
       "    </tr>\n",
       "    <tr>\n",
       "      <th>272</th>\n",
       "      <td>d251</td>\n",
       "      <td>Ramicane</td>\n",
       "      <td>37.31</td>\n",
       "    </tr>\n",
       "    <tr>\n",
       "      <th>400</th>\n",
       "      <td>e662</td>\n",
       "      <td>Ramicane</td>\n",
       "      <td>40.66</td>\n",
       "    </tr>\n",
       "    <tr>\n",
       "      <th>49</th>\n",
       "      <td>g791</td>\n",
       "      <td>Ramicane</td>\n",
       "      <td>29.13</td>\n",
       "    </tr>\n",
       "    <tr>\n",
       "      <th>184</th>\n",
       "      <td>i177</td>\n",
       "      <td>Ramicane</td>\n",
       "      <td>33.56</td>\n",
       "    </tr>\n",
       "    <tr>\n",
       "      <th>254</th>\n",
       "      <td>i334</td>\n",
       "      <td>Ramicane</td>\n",
       "      <td>36.37</td>\n",
       "    </tr>\n",
       "    <tr>\n",
       "      <th>94</th>\n",
       "      <td>j913</td>\n",
       "      <td>Ramicane</td>\n",
       "      <td>31.56</td>\n",
       "    </tr>\n",
       "    <tr>\n",
       "      <th>194</th>\n",
       "      <td>j989</td>\n",
       "      <td>Ramicane</td>\n",
       "      <td>36.13</td>\n",
       "    </tr>\n",
       "    <tr>\n",
       "      <th>9</th>\n",
       "      <td>k403</td>\n",
       "      <td>Ramicane</td>\n",
       "      <td>22.05</td>\n",
       "    </tr>\n",
       "    <tr>\n",
       "      <th>74</th>\n",
       "      <td>m546</td>\n",
       "      <td>Ramicane</td>\n",
       "      <td>30.56</td>\n",
       "    </tr>\n",
       "    <tr>\n",
       "      <th>114</th>\n",
       "      <td>n364</td>\n",
       "      <td>Ramicane</td>\n",
       "      <td>31.10</td>\n",
       "    </tr>\n",
       "    <tr>\n",
       "      <th>420</th>\n",
       "      <td>q597</td>\n",
       "      <td>Ramicane</td>\n",
       "      <td>45.22</td>\n",
       "    </tr>\n",
       "    <tr>\n",
       "      <th>262</th>\n",
       "      <td>q610</td>\n",
       "      <td>Ramicane</td>\n",
       "      <td>36.56</td>\n",
       "    </tr>\n",
       "    <tr>\n",
       "      <th>234</th>\n",
       "      <td>r811</td>\n",
       "      <td>Ramicane</td>\n",
       "      <td>37.23</td>\n",
       "    </tr>\n",
       "    <tr>\n",
       "      <th>447</th>\n",
       "      <td>r921</td>\n",
       "      <td>Ramicane</td>\n",
       "      <td>43.42</td>\n",
       "    </tr>\n",
       "    <tr>\n",
       "      <th>59</th>\n",
       "      <td>s508</td>\n",
       "      <td>Ramicane</td>\n",
       "      <td>30.28</td>\n",
       "    </tr>\n",
       "    <tr>\n",
       "      <th>410</th>\n",
       "      <td>u196</td>\n",
       "      <td>Ramicane</td>\n",
       "      <td>40.67</td>\n",
       "    </tr>\n",
       "    <tr>\n",
       "      <th>449</th>\n",
       "      <td>w678</td>\n",
       "      <td>Ramicane</td>\n",
       "      <td>43.17</td>\n",
       "    </tr>\n",
       "    <tr>\n",
       "      <th>453</th>\n",
       "      <td>y449</td>\n",
       "      <td>Ramicane</td>\n",
       "      <td>44.18</td>\n",
       "    </tr>\n",
       "    <tr>\n",
       "      <th>84</th>\n",
       "      <td>z578</td>\n",
       "      <td>Ramicane</td>\n",
       "      <td>30.64</td>\n",
       "    </tr>\n",
       "  </tbody>\n",
       "</table>\n",
       "<p>100 rows × 3 columns</p>\n",
       "</div>"
      ],
      "text/plain": [
       "     Mouse ID Drug Regimen  Tumor Volume (mm3)\n",
       "309      b128    Capomulin               38.98\n",
       "299      b742    Capomulin               38.94\n",
       "64       f966    Capomulin               30.49\n",
       "244      g288    Capomulin               37.07\n",
       "360      g316    Capomulin               40.16\n",
       "440      i557    Capomulin               47.69\n",
       "204      i738    Capomulin               37.31\n",
       "337      j119    Capomulin               38.13\n",
       "317      j246    Capomulin               38.75\n",
       "380      l509    Capomulin               41.48\n",
       "282      l897    Capomulin               38.85\n",
       "39       m601    Capomulin               28.43\n",
       "144      m957    Capomulin               33.33\n",
       "1455     r157    Capomulin               46.54\n",
       "134      r554    Capomulin               32.38\n",
       "390      r944    Capomulin               41.58\n",
       "19       s185    Capomulin               23.34\n",
       "370      s710    Capomulin               40.73\n",
       "164      t565    Capomulin               34.46\n",
       "104      u364    Capomulin               31.02\n",
       "350      v923    Capomulin               40.66\n",
       "340      w150    Capomulin               39.95\n",
       "224      w914    Capomulin               36.04\n",
       "29       x401    Capomulin               28.48\n",
       "124      y793    Capomulin               31.90\n",
       "493      a275     Ceftamin               63.00\n",
       "594      b447     Ceftamin               45.00\n",
       "600      b487     Ceftamin               56.06\n",
       "617      b759     Ceftamin               55.74\n",
       "840      f436     Ceftamin               48.72\n",
       "...       ...          ...                 ...\n",
       "1640     v766    Infubinol               51.54\n",
       "1683     w193    Infubinol               50.01\n",
       "1726     w584    Infubinol               58.27\n",
       "1813     y163    Infubinol               67.69\n",
       "1872     z581    Infubinol               62.75\n",
       "327      a411     Ramicane               38.41\n",
       "430      a444     Ramicane               43.05\n",
       "214      a520     Ramicane               38.81\n",
       "174      a644     Ramicane               32.98\n",
       "289      c458     Ramicane               38.34\n",
       "154      c758     Ramicane               33.40\n",
       "272      d251     Ramicane               37.31\n",
       "400      e662     Ramicane               40.66\n",
       "49       g791     Ramicane               29.13\n",
       "184      i177     Ramicane               33.56\n",
       "254      i334     Ramicane               36.37\n",
       "94       j913     Ramicane               31.56\n",
       "194      j989     Ramicane               36.13\n",
       "9        k403     Ramicane               22.05\n",
       "74       m546     Ramicane               30.56\n",
       "114      n364     Ramicane               31.10\n",
       "420      q597     Ramicane               45.22\n",
       "262      q610     Ramicane               36.56\n",
       "234      r811     Ramicane               37.23\n",
       "447      r921     Ramicane               43.42\n",
       "59       s508     Ramicane               30.28\n",
       "410      u196     Ramicane               40.67\n",
       "449      w678     Ramicane               43.17\n",
       "453      y449     Ramicane               44.18\n",
       "84       z578     Ramicane               30.64\n",
       "\n",
       "[100 rows x 3 columns]"
      ]
     },
     "execution_count": 7,
     "metadata": {},
     "output_type": "execute_result"
    }
   ],
   "source": [
    "# Calculate the final tumor volume of each mouse across four of the most promising treatment regimens.\n",
    "\n",
    "# Readme: Calculate the final tumor volume of each mouse across four of the most promising treatment regimens: \n",
    "#    Capomulin, Ramicane, Infubinol, and Ceftamin. \n",
    "\n",
    "# Get the last row per mouse for each regimen. \n",
    "# Filter for the required regimens\n",
    "\n",
    "# Sort by Regimen and Mouse, then by timepoint. \n",
    "subset = [\"Capomulin\", \"Ramicane\", \"Infubinol\", \"Ceftamin\"]\n",
    "mostpromising = merged[merged[grp].isin(subset)].sort_values(\n",
    "        [grp, \"Mouse ID\", \"Timepoint\"]\n",
    "    , ascending=[True, True, True]\n",
    ")\n",
    "\n",
    "# Get the last row per group\n",
    "# grp = \"Drug Regimen\"\n",
    "# aggColumn = tumor column\n",
    "print(\"Final tumor volume for each mouse / regimen:\")\n",
    "finalTV_by_DR_Mouse = mostpromising.groupby([grp, \"Mouse ID\"]).tail(1)[[\"Mouse ID\", grp, aggColumn]].round(2)\n",
    "finalTV_by_DR_Mouse "
   ]
  },
  {
   "cell_type": "code",
   "execution_count": 8,
   "metadata": {},
   "outputs": [
    {
     "name": "stdout",
     "output_type": "stream",
     "text": [
      "The lower quartile of tumor volume is: 37.19\n",
      "The upper quartile of tumor volume is: 59.93\n",
      "The interquartile range of tumor volume is: 22.74\n",
      "The the median of tumor volume is: 45.0 \n",
      "Values below 3.08 could be outliers.\n",
      "Values above 94.04 could be outliers.\n",
      "\n",
      "------------------------\n",
      "Outliers - below lower bound:\n",
      "------------------------\n",
      "Empty DataFrame\n",
      "Columns: [Mouse ID, Drug Regimen, Tumor Volume (mm3)]\n",
      "Index: []\n",
      "\n",
      "------------------------\n",
      "Outliers - above upper bound:\n",
      "------------------------\n",
      "Empty DataFrame\n",
      "Columns: [Mouse ID, Drug Regimen, Tumor Volume (mm3)]\n",
      "Index: []\n",
      "\n",
      "------------------------\n",
      "The lowest tumor growth:\n",
      "------------------------\n",
      "   Mouse ID Drug Regimen  Tumor Volume (mm3)\n",
      "9      k403     Ramicane               22.05\n",
      "19     s185    Capomulin               23.34\n",
      "39     m601    Capomulin               28.43\n",
      "29     x401    Capomulin               28.48\n",
      "49     g791     Ramicane               29.13\n",
      "\n",
      "------------------------\n",
      "The largest tumor growth:\n",
      "------------------------\n",
      "     Mouse ID Drug Regimen  Tumor Volume (mm3)\n",
      "637      c139    Infubinol               72.23\n",
      "1033     k210     Ceftamin               68.92\n",
      "1845     y769     Ceftamin               68.59\n",
      "463      a203    Infubinol               67.97\n",
      "1112     l471     Ceftamin               67.75\n"
     ]
    }
   ],
   "source": [
    "# Calculate the IQR and quantitatively determine if there are any potential outliers.\n",
    "\n",
    "# Calculate the quartiles and IQR and quantitatively determine if there are any potential outliers \n",
    "# across all four treatment regimens.\n",
    "\n",
    "quartiles = finalTV_by_DR_Mouse[aggColumn].quantile([.25,.5,.75])\n",
    "lowerq = quartiles[0.25].round(2)\n",
    "upperq = quartiles[0.75].round(2)\n",
    "iqr = round(upperq-lowerq, 2)\n",
    "\n",
    "print(f\"The lower quartile of tumor volume is: {lowerq}\")\n",
    "print(f\"The upper quartile of tumor volume is: {upperq}\")\n",
    "print(f\"The interquartile range of tumor volume is: {iqr}\")\n",
    "print(f\"The the median of tumor volume is: {quartiles[0.5]} \")\n",
    "\n",
    "lower_bound = round(lowerq - (1.5*iqr), 2)\n",
    "upper_bound = round(upperq + (1.5*iqr), 2)\n",
    "print(f\"Values below {lower_bound} could be outliers.\")\n",
    "print(f\"Values above {upper_bound} could be outliers.\")\n",
    "\n",
    "# Store in new dataframe to make it easier later:\n",
    "outlier_below = finalTV_by_DR_Mouse[(finalTV_by_DR_Mouse[aggColumn] < lower_bound)]\n",
    "outlier_above = finalTV_by_DR_Mouse[(finalTV_by_DR_Mouse[aggColumn] > upper_bound)]\n",
    "\n",
    "print(\"\")\n",
    "print(\"------------------------\")\n",
    "print(\"Outliers - below lower bound:\")\n",
    "print(\"------------------------\")\n",
    "print(outlier_below.head())\n",
    "\n",
    "print(\"\")\n",
    "print(\"------------------------\")\n",
    "print(\"Outliers - above upper bound:\")\n",
    "print(\"------------------------\")\n",
    "print(outlier_above.head())\n",
    "\n",
    "print(\"\")\n",
    "print(\"------------------------\")\n",
    "print(\"The lowest tumor growth:\")\n",
    "print(\"------------------------\")\n",
    "print(finalTV_by_DR_Mouse.sort_values(aggColumn).head())\n",
    "\n",
    "print(\"\")\n",
    "print(\"------------------------\")\n",
    "print(\"The largest tumor growth:\")\n",
    "print(\"------------------------\")\n",
    "print(finalTV_by_DR_Mouse.sort_values(aggColumn, ascending = False).head())"
   ]
  },
  {
   "cell_type": "code",
   "execution_count": 9,
   "metadata": {},
   "outputs": [
    {
     "name": "stdout",
     "output_type": "stream",
     "text": [
      "\n",
      "------------------------\n",
      "How many outliers total?\n",
      "------------------------\n",
      "There are no rows with values below the lower bound (3.08)\n",
      "There are no rows with values above the upper bound (94.04)\n"
     ]
    }
   ],
   "source": [
    "# quantitatively determine if there are any potential outliers \n",
    "# across all four treatment regimens.\n",
    "\n",
    "print(\"\")\n",
    "print(\"------------------------\")\n",
    "print(\"How many outliers total?\")\n",
    "print(\"------------------------\")\n",
    "outliers_tot_below = len(outlier_below)\n",
    "outliers_tot_above = len(outlier_above)\n",
    "\n",
    "if outliers_tot_below == 0:\n",
    "    print(f\"There are no rows with values below the lower bound ({lower_bound})\")\n",
    "else:\n",
    "    print(f'There are {outliers_tot_below} rows with values below the lower bound ({lower_bound})')\n",
    "    \n",
    "if outliers_tot_above == 0:\n",
    "    print(f\"There are no rows with values above the upper bound ({upper_bound})\")\n",
    "else:\n",
    "    print(f'There are {outliers_tot_above} rows with values above the upper bound ({upper_bound})')"
   ]
  },
  {
   "cell_type": "code",
   "execution_count": 10,
   "metadata": {},
   "outputs": [
    {
     "data": {
      "image/png": "[encoded data removed]",
      "text/plain": [
       "<Figure size 432x288 with 1 Axes>"
      ]
     },
     "metadata": {
      "needs_background": "light"
     },
     "output_type": "display_data"
    }
   ],
   "source": [
    "# Generate a box plot of the final tumor volume of each mouse across four regimens of interest\n",
    "# Using Matplotlib, generate a box and whisker plot of the final tumor volume for all four treatment \n",
    "# regimens and highlight any potential outliers in the plot by changing their color and style.\n",
    "green_diamond = dict(markerfacecolor='g', marker='D')\n",
    "\n",
    "ax1 = finalTV_by_DR_Mouse.boxplot(\n",
    "    by =grp\n",
    "    , column =[aggColumn]\n",
    "    , grid = False\n",
    "    , flierprops=green_diamond\n",
    ")\n",
    "\n",
    "ax1.set_title('')\n",
    "ax1.set_ylabel('Tumor Volume')\n",
    "plt.show()"
   ]
  },
  {
   "cell_type": "markdown",
   "metadata": {},
   "source": [
    "## Line and scatter plots"
   ]
  },
  {
   "cell_type": "code",
   "execution_count": 36,
   "metadata": {},
   "outputs": [
    {
     "data": {
      "text/plain": [
       "<matplotlib.axes._subplots.AxesSubplot at 0x2ec67dc4b00>"
      ]
     },
     "execution_count": 36,
     "metadata": {},
     "output_type": "execute_result"
    },
    {
     "data": {
      "image/png": "[encoded data removed]",
      "text/plain": [
       "<Figure size 432x288 with 1 Axes>"
      ]
     },
     "metadata": {
      "needs_background": "light"
     },
     "output_type": "display_data"
    },
    {
     "data": {
      "image/png": "[encoded data removed]",
      "text/plain": [
       "<Figure size 432x288 with 1 Axes>"
      ]
     },
     "metadata": {
      "needs_background": "light"
     },
     "output_type": "display_data"
    }
   ],
   "source": [
    "# Generate a line plot of time point versus tumor volume for a mouse treated with Capomulin\n",
    "#movies[(movies.duration >= 200) & (movies.genre == 'Drama')]\n",
    "\n",
    "cap = merged[(merged[grp] == \"Capomulin\") & (merged[\"Mouse ID\"] ==\"s185\")]\n",
    "# Two ways:\n",
    "cap.set_index('Timepoint')[aggColumn].plot();\n",
    "cap.plot(y=aggColumn, x='Timepoint')"
   ]
  },
  {
   "cell_type": "code",
   "execution_count": null,
   "metadata": {},
   "outputs": [],
   "source": [
    "#############################################\n",
    "#########\n",
    "######### I had trouble understanding \"the ask\" and have included 3 different \"interpretations\"\n",
    "#########    of the request\n",
    "#########\n",
    "#############################################"
   ]
  },
  {
   "cell_type": "code",
   "execution_count": 21,
   "metadata": {},
   "outputs": [
    {
     "data": {
      "image/png": "[encoded data removed]",
      "text/plain": [
       "<Figure size 432x288 with 1 Axes>"
      ]
     },
     "metadata": {
      "needs_background": "light"
     },
     "output_type": "display_data"
    }
   ],
   "source": [
    "# Generate a scatter plot of mouse weight versus average tumor volume for the Capomulin regimen\n",
    "avgs = merged[merged[grp]==\"Capomulin\"].groupby(\"Weight (g)\")[aggColumn].mean().round(2)\n",
    "avgs.head()\n",
    "\n",
    "# SELECT AVG(TumorVol) FROM Table GROUP BY Weight to get \"average tumor volume for each unique Weight (g)\"\n",
    "dfavgs = avgs.reset_index(name=\"AvgTumorVol\")\n",
    "dfavgs.head()\n",
    "\n",
    "plt.scatter(\n",
    "    dfavgs[\"Weight (g)\"], \n",
    "    dfavgs[\"AvgTumorVol\"], \n",
    "    s=300, \n",
    "    c=dfavgs[\"AvgTumorVol\"]\n",
    ")\n",
    "\n",
    "plt.xlabel(\"Mouse weight\")\n",
    "plt.ylabel(\"Average tumor volume\")\n",
    "\n",
    "plt.show()"
   ]
  },
  {
   "cell_type": "code",
   "execution_count": 32,
   "metadata": {},
   "outputs": [
    {
     "data": {
      "image/png": "[encoded data removed]",
      "text/plain": [
       "<Figure size 432x288 with 1 Axes>"
      ]
     },
     "metadata": {
      "needs_background": "light"
     },
     "output_type": "display_data"
    }
   ],
   "source": [
    "# Generate a scatter plot of mouse weight versus average tumor volume for the Capomulin regimen\n",
    "allcapresults = merged[merged[grp]==\"Capomulin\"].round(2)\n",
    "\n",
    "# aggColumn = tumor volume\n",
    "plt.scatter(\n",
    "    allcapresults[\"Weight (g)\"], \n",
    "    allcapresults[aggColumn], \n",
    "    s=300, \n",
    "    c=allcapresults[aggColumn]\n",
    ")\n",
    "\n",
    "plt.xlabel(\"Mouse weight\")\n",
    "plt.ylabel(\"Average tumor volume\")\n",
    "\n",
    "plt.show()"
   ]
  },
  {
   "cell_type": "code",
   "execution_count": 34,
   "metadata": {},
   "outputs": [
    {
     "data": {
      "image/png": "[encoded data removed]",
      "text/plain": [
       "<Figure size 432x288 with 1 Axes>"
      ]
     },
     "metadata": {
      "needs_background": "light"
     },
     "output_type": "display_data"
    }
   ],
   "source": [
    "# Group by mouse ID and redo\n",
    "byMouseId = allcapresults.groupby(\"Mouse ID\")\n",
    "weightmean = byMouseId[\"Weight (g)\"].mean().round(2)\n",
    "avgTV = byMouseId[aggColumn].mean().round(2)\n",
    "finalmerge = pd.merge(weightmean, avgTV, on=\"Mouse ID\")\n",
    "\n",
    "# aggColumn = tumor volume\n",
    "plt.scatter(\n",
    "    finalmerge[\"Weight (g)\"], \n",
    "    finalmerge[aggColumn], \n",
    "    s=300, \n",
    "    c=finalmerge[aggColumn]\n",
    ")\n",
    "\n",
    "plt.xlabel(\"Mouse weight\")\n",
    "plt.ylabel(\"Average tumor volume\")\n",
    "\n",
    "plt.show()"
   ]
  },
  {
   "cell_type": "code",
   "execution_count": 49,
   "metadata": {},
   "outputs": [
    {
     "name": "stdout",
     "output_type": "stream",
     "text": [
      "The correlation between both factors is 0.84\n"
     ]
    }
   ],
   "source": [
    "# Calculate the correlation coefficient and linear regression model for mouse weight and average tumor \n",
    "# volume for the Capomulin regimen\n",
    "\n",
    "# Now do the correlation:\n",
    "the_weight = finalmerge.iloc[:,0]\n",
    "the_vol = finalmerge.iloc[:,1]\n",
    "correlation = st.pearsonr(the_weight,the_vol)\n",
    "print(f\"The correlation between both factors is {round(correlation[0],2)}\")"
   ]
  },
  {
   "cell_type": "code",
   "execution_count": 53,
   "metadata": {},
   "outputs": [],
   "source": [
    "# Linear regressions:\n",
    "from scipy import stats\n",
    "vc_slope, vc_int, vc_r, vc_p, vc_std_err = stats.linregress(the_weight, the_vol)\n",
    "\n",
    "# Create equation of line to calculate predicted violent crime rate\n",
    "vc_fit = vc_slope * the_weight + vc_int"
   ]
  },
  {
   "cell_type": "code",
   "execution_count": 54,
   "metadata": {},
   "outputs": [
    {
     "data": {
      "image/png": "[encoded data removed]",
      "text/plain": [
       "<Figure size 432x288 with 1 Axes>"
      ]
     },
     "metadata": {
      "needs_background": "light"
     },
     "output_type": "display_data"
    }
   ],
   "source": [
    "# Plot the linear model on top of scatter plot \n",
    "plt.scatter(the_weight,the_vol)\n",
    "plt.plot(the_weight,vc_fit,\"--\")\n",
    "plt.xticks(the_weight, rotation=90)\n",
    "plt.xlabel('Weight')\n",
    "plt.ylabel('Tumor Volume')\n",
    "plt.show()"
   ]
  },
  {
   "cell_type": "code",
   "execution_count": 55,
   "metadata": {},
   "outputs": [
    {
     "name": "stdout",
     "output_type": "stream",
     "text": [
      "Holy Moly that was hard\n"
     ]
    }
   ],
   "source": [
    "print(\"Holy Moly that was hard\")"
   ]
  },
  {
   "cell_type": "code",
   "execution_count": null,
   "metadata": {},
   "outputs": [],
   "source": []
  }
 ],
 "metadata": {
  "anaconda-cloud": {},
  "kernelspec": {
   "display_name": "Python 3",
   "language": "python",
   "name": "python3"
  },
  "language_info": {
   "codemirror_mode": {
    "name": "ipython",
    "version": 3
   },
   "file_extension": ".py",
   "mimetype": "text/x-python",
   "name": "python",
   "nbconvert_exporter": "python",
   "pygments_lexer": "ipython3",
   "version": "3.7.3"
  }
 },
 "nbformat": 4,
 "nbformat_minor": 2
}
